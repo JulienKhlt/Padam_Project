{
 "cells": [
  {
   "cell_type": "markdown",
   "metadata": {},
   "source": [
    "# Importer les librairies"
   ]
  },
  {
   "cell_type": "code",
   "execution_count": 1,
   "metadata": {},
   "outputs": [
    {
     "data": {
      "text/plain": [
       "plot_bus_stops"
      ]
     },
     "execution_count": 1,
     "metadata": {},
     "output_type": "execute_result"
    }
   ],
   "source": [
    "using PyPlot: pygui\n",
    "pygui(true)\n",
    "using Plots\n",
    "pyplot()\n",
    "\n",
    "using SparseArrays\n",
    "using LightGraphs\n",
    "\n",
    "include(\"Parsers.jl\")\n",
    "include(\"Resolution.jl\")\n",
    "include(\"Resolution_clusters.jl\")\n",
    "include(\"plot.jl\")\n"
   ]
  },
  {
   "cell_type": "markdown",
   "metadata": {},
   "source": [
    "# Importer les fichiers de données"
   ]
  },
  {
   "cell_type": "code",
   "execution_count": 2,
   "metadata": {},
   "outputs": [
    {
     "data": {
      "text/plain": [
       "\"/Users/gache/Documents/ENPC/2A/semestre_2/Projet_IMI/git/Data/Villages/node_coordinates.csv\""
      ]
     },
     "execution_count": 2,
     "metadata": {},
     "output_type": "execute_result"
    }
   ],
   "source": [
    "file_directory = \"/Users/gache/Documents/ENPC/2A/semestre_2/Projet_IMI/git/Data/Villages/\"\n",
    "client_file_name = joinpath(file_directory, \"customer_requests.csv\")\n",
    "driver_file_name = joinpath(file_directory, \"driver_shifts.csv\")\n",
    "map_file_name = joinpath(file_directory, \"mTSP_matrix.csv\")\n",
    "gamma_file_name = joinpath(file_directory, \"gammas.csv\")\n",
    "node_coordinates_file_name = joinpath(file_directory, \"node_coordinates.csv\")"
   ]
  },
  {
   "cell_type": "markdown",
   "metadata": {},
   "source": [
    "# Parser les données, affichage des arrêts de bus"
   ]
  },
  {
   "cell_type": "code",
   "execution_count": 3,
   "metadata": {},
   "outputs": [
    {
     "data": {
      "image/png": "[encoded data removed]"
     },
     "execution_count": 3,
     "metadata": {},
     "output_type": "execute_result"
    }
   ],
   "source": [
    "loc = build_localisations(node_coordinates_file_name)\n",
    "depots, gare = build_drivers_and_gare(driver_file_name)\n",
    "people = build_people_real_file_only_client(client_file_name, driver_file_name, map_file_name, gamma_file_name, false)\n",
    "mappy,n = parser_real_file(map_file_name)\n",
    "nb_buses = length(depots)\n",
    "plot_bus_stops(loc, depots, gare)"
   ]
  },
  {
   "cell_type": "markdown",
   "metadata": {},
   "source": [
    "# Construction des clusters avec hierarchical clustering"
   ]
  },
  {
   "cell_type": "code",
   "execution_count": 5,
   "metadata": {},
   "outputs": [
    {
     "ename": "LoadError",
     "evalue": "UndefVarError: closest_depot_list not defined",
     "output_type": "error",
     "traceback": [
      "UndefVarError: closest_depot_list not defined",
      "",
      "Stacktrace:",
      " [1] hierarchical_clustering(people::Vector{Any}, map::SparseMatrixCSC{Float64, Int64}, gare::Person, depots::Vector{Person}, length_max::Int64, nb_buses::Int64, metric::typeof(angle_max))",
      "   @ Main ~\\Documents\\ENPC\\2A\\semestre_2\\Projet_IMI\\git\\Resolution_clusters.jl:115",
      " [2] top-level scope",
      "   @ In[5]:2",
      " [3] eval",
      "   @ .\\boot.jl:360 [inlined]",
      " [4] include_string(mapexpr::typeof(REPL.softscope), mod::Module, code::String, filename::String)",
      "   @ Base .\\loading.jl:1094"
     ]
    }
   ],
   "source": [
    "metric = angle_max\n",
    "sol = hierarchical_clustering(people, mappy, gare, depots, 20, nb_buses, metric)\n",
    "pl = plot_terminus(loc, depots, gare)\n",
    "p_hierarchical_clustering = plot_clusters(sol, loc, pl, true)"
   ]
  },
  {
   "cell_type": "markdown",
   "metadata": {},
   "source": [
    "# Construction des bus"
   ]
  },
  {
   "cell_type": "code",
   "execution_count": null,
   "metadata": {},
   "outputs": [],
   "source": [
    "buses = compute_solution(sol)\n",
    "println(buses)\n",
    "total_time = get_total_time.(buses)\n",
    "println(total_time)\n",
    "println(sum(total_time))"
   ]
  },
  {
   "cell_type": "code",
   "execution_count": null,
   "metadata": {},
   "outputs": [],
   "source": []
  },
  {
   "cell_type": "code",
   "execution_count": null,
   "metadata": {},
   "outputs": [],
   "source": []
  }
 ],
 "metadata": {
  "kernelspec": {
   "display_name": "Julia 1.6.0",
   "language": "julia",
   "name": "julia-1.6"
  },
  "language_info": {
   "file_extension": ".jl",
   "mimetype": "application/julia",
   "name": "julia",
   "version": "1.6.0"
  }
 },
 "nbformat": 4,
 "nbformat_minor": 4
}
