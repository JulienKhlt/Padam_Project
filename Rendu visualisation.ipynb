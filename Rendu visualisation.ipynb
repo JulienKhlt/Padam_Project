{
 "cells": [
  {
   "cell_type": "markdown",
   "metadata": {},
   "source": [
    "# Data parsing"
   ]
  },
  {
   "cell_type": "code",
   "execution_count": 1,
   "metadata": {},
   "outputs": [
    {
     "name": "stderr",
     "output_type": "stream",
     "text": [
      "┌ Info: Precompiling PyPlot [d330b81b-6aea-500a-939a-2ce795aea3ee]\n",
      "└ @ Base loading.jl:1278\n",
      "ERROR: LoadError: LoadError: PyCall not properly installed. Please run Pkg.build(\"PyCall\")\n",
      "Stacktrace:\n",
      " [1] error(::String) at .\\error.jl:33\n",
      " [2] top-level scope at C:\\Users\\gache\\.julia\\packages\\PyCall\\tqyST\\src\\startup.jl:44\n",
      " [3] include(::Function, ::Module, ::String) at .\\Base.jl:380\n",
      " [4] include at .\\Base.jl:368 [inlined]\n",
      " [5] include(::String) at C:\\Users\\gache\\.julia\\packages\\PyCall\\tqyST\\src\\PyCall.jl:1\n",
      " [6] top-level scope at C:\\Users\\gache\\.julia\\packages\\PyCall\\tqyST\\src\\PyCall.jl:38\n",
      " [7] include(::Function, ::Module, ::String) at .\\Base.jl:380\n",
      " [8] include(::Module, ::String) at .\\Base.jl:368\n",
      " [9] top-level scope at none:2\n",
      " [10] eval at .\\boot.jl:331 [inlined]\n",
      " [11] eval(::Expr) at .\\client.jl:467\n",
      " [12] top-level scope at .\\none:3\n",
      "in expression starting at C:\\Users\\gache\\.julia\\packages\\PyCall\\tqyST\\src\\startup.jl:41\n",
      "in expression starting at C:\\Users\\gache\\.julia\\packages\\PyCall\\tqyST\\src\\PyCall.jl:38\n",
      "ERROR: LoadError: Failed to precompile PyCall [438e738f-606a-5dbb-bf0a-cddfbfd45ab0] to C:\\Users\\gache\\.julia\\compiled\\v1.5\\PyCall\\GkzkC_3ext5.ji.\n",
      "Stacktrace:\n",
      " [1] error(::String) at .\\error.jl:33\n",
      " [2] compilecache(::Base.PkgId, ::String) at .\\loading.jl:1305\n",
      " [3] _require(::Base.PkgId) at .\\loading.jl:1030\n",
      " [4] require(::Base.PkgId) at .\\loading.jl:928\n",
      " [5] require(::Module, ::Symbol) at .\\loading.jl:923\n",
      " [6] include(::Function, ::Module, ::String) at .\\Base.jl:380\n",
      " [7] include(::Module, ::String) at .\\Base.jl:368\n",
      " [8] top-level scope at none:2\n",
      " [9] eval at .\\boot.jl:331 [inlined]\n",
      " [10] eval(::Expr) at .\\client.jl:467\n",
      " [11] top-level scope at .\\none:3\n",
      "in expression starting at C:\\Users\\gache\\.julia\\packages\\PyPlot\\XHEG0\\src\\PyPlot.jl:4\n"
     ]
    },
    {
     "ename": "LoadError",
     "evalue": "Failed to precompile PyPlot [d330b81b-6aea-500a-939a-2ce795aea3ee] to C:\\Users\\gache\\.julia\\compiled\\v1.5\\PyPlot\\oatAj_3ext5.ji.",
     "output_type": "error",
     "traceback": [
      "Failed to precompile PyPlot [d330b81b-6aea-500a-939a-2ce795aea3ee] to C:\\Users\\gache\\.julia\\compiled\\v1.5\\PyPlot\\oatAj_3ext5.ji.",
      "",
      "Stacktrace:",
      " [1] error(::String) at .\\error.jl:33",
      " [2] compilecache(::Base.PkgId, ::String) at .\\loading.jl:1305",
      " [3] _require(::Base.PkgId) at .\\loading.jl:1030",
      " [4] require(::Base.PkgId) at .\\loading.jl:928",
      " [5] require(::Module, ::Symbol) at .\\loading.jl:923",
      " [6] include_string(::Function, ::Module, ::String, ::String) at .\\loading.jl:1091"
     ]
    }
   ],
   "source": [
    "using PyPlot: pygui\n",
    "pygui(true)\n",
    "using Plots\n",
    "pyplot()"
   ]
  },
  {
   "cell_type": "code",
   "execution_count": null,
   "metadata": {},
   "outputs": [
    {
     "name": "stderr",
     "output_type": "stream",
     "text": [
      "┌ Info: Precompiling LightGraphs [093fc24a-ae57-5d10-9952-331d41423f4d]\n",
      "└ @ Base loading.jl:1278\n",
      "┌ Info: Precompiling JuMP [4076af6c-e467-56ae-b986-b466b2749572]\n",
      "└ @ Base loading.jl:1278\n"
     ]
    }
   ],
   "source": [
    "using SparseArrays\n",
    "using LightGraphs\n",
    "\n",
    "include(\"Parsers.jl\")\n",
    "include(\"Resolution.jl\")\n",
    "include(\"Resolution_clusters.jl\")\n",
    "include(\"plot.jl\")\n"
   ]
  },
  {
   "cell_type": "code",
   "execution_count": 6,
   "metadata": {},
   "outputs": [
    {
     "data": {
      "text/plain": [
       "\"/Users/gache/Documents/ENPC/2A/semestre_2/Projet_IMI/git/Data\\\\node_coordinates.csv\""
      ]
     },
     "execution_count": 6,
     "metadata": {},
     "output_type": "execute_result"
    }
   ],
   "source": [
    "file_directory = \"/Users/gache/Documents/ENPC/2A/semestre_2/Projet_IMI/git/Data/Villages/\"\n",
    "client_file_name = joinpath(file_directory, \"customer_requests.csv\")\n",
    "driver_file_name = joinpath(file_directory, \"driver_shifts.csv\")\n",
    "map_file_name = joinpath(file_directory, \"mTSP_matrix.csv\")\n",
    "gamma_file_name = joinpath(file_directory, \"gammas.csv\")\n",
    "node_coordinates_file_name = joinpath(file_directory, \"node_coordinates.csv\")"
   ]
  },
  {
   "cell_type": "code",
   "execution_count": 3,
   "metadata": {},
   "outputs": [
    {
     "ename": "LoadError",
     "evalue": "UndefVarError: build_drivers_and_gare not defined",
     "output_type": "error",
     "traceback": [
      "UndefVarError: build_drivers_and_gare not defined",
      "",
      "Stacktrace:",
      " [1] top-level scope at In[3]:2",
      " [2] include_string(::Function, ::Module, ::String, ::String) at .\\loading.jl:1091"
     ]
    }
   ],
   "source": [
    "loc = build_localisations(node_coordinates_file_name)\n",
    "depots, gare = build_drivers_and_gare(driver_file_name)\n",
    "people = build_people_real_file_only_client(client_file_name, driver_file_name, map_file_name, gamma_file_name, false)\n",
    "mappy,n = parser_real_file(map_file_name)\n",
    "nb_buses = length(depots)\n",
    "plot_bus_stops(loc, depots, gare)"
   ]
  },
  {
   "cell_type": "code",
   "execution_count": null,
   "metadata": {},
   "outputs": [],
   "source": [
    "metric = angle_max\n",
    "sol = hierarchical_clustering(people, mappy, gare_type_pers, depots, 20, nb_buses, metric)\n",
    "pl = plot_terminus(loc, depots, gare)\n",
    "p_hierarchical_clustering = plot_clusters(sol, loc, pl, true)"
   ]
  },
  {
   "cell_type": "code",
   "execution_count": null,
   "metadata": {},
   "outputs": [],
   "source": [
    "buses = compute_solution(sol)\n",
    "println(buses)\n",
    "total_time = get_total_time.(buses)\n",
    "println(total_time)\n",
    "println(sum(total_time))"
   ]
  }
 ],
 "metadata": {
  "kernelspec": {
   "display_name": "Julia 1.5.3",
   "language": "julia",
   "name": "julia-1.5"
  },
  "language_info": {
   "file_extension": ".jl",
   "mimetype": "application/julia",
   "name": "julia",
   "version": "1.5.3"
  },
  "latex_envs": {
   "LaTeX_envs_menu_present": true,
   "autoclose": false,
   "autocomplete": true,
   "bibliofile": "biblio.bib",
   "cite_by": "apalike",
   "current_citInitial": 1,
   "eqLabelWithNumbers": true,
   "eqNumInitial": 1,
   "hotkeys": {
    "equation": "Ctrl-E",
    "itemize": "Ctrl-I"
   },
   "labels_anchors": false,
   "latex_user_defs": false,
   "report_style_numbering": false,
   "user_envs_cfg": false
  }
 },
 "nbformat": 4,
 "nbformat_minor": 4
}
